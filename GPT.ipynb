{
 "cells": [
  {
   "cell_type": "code",
   "execution_count": null,
   "id": "552d82fc",
   "metadata": {},
   "outputs": [],
   "source": [
    "import torch\n",
    "import torch.nn as nn\n",
    "from torch.nn import functional as F\n",
    "from torchinfo import summary\n",
    "import tiktoken\n",
    "import pandas as pd\n",
    "from tqdm.auto import tqdm\n",
    "from pathlib import Path"
   ]
  },
  {
   "cell_type": "code",
   "execution_count": null,
   "id": "6d2479e4",
   "metadata": {},
   "outputs": [],
   "source": [
    "# Set device to GPU\n",
    "device = \"cuda\" if torch.cuda.is_available() else \"cpu\"\n",
    "device"
   ]
  },
  {
   "attachments": {},
   "cell_type": "markdown",
   "id": "97e44d3f",
   "metadata": {},
   "source": [
    "### Hyperparameters"
   ]
  },
  {
   "cell_type": "code",
   "execution_count": null,
   "id": "ac16d6ef",
   "metadata": {},
   "outputs": [],
   "source": [
    "# dataset\n",
    "files_no = 1000 # number of input text files to read\n",
    "tokenization = 'bigram'\n",
    "train_test_split = 0.85\n",
    "block_size = 64 # number of tokens in one block. Maximum context sequence.\n",
    "batch_size = 8 # size of the batch with blocks\n",
    "\n",
    "# training\n",
    "epochs = 10000 # no. of epochs to train the model\n",
    "eval_epochs = 100 # no. of epochs to calculate mean test loss\n",
    "info_interval = 250 # test loss information frequency\n",
    "learning_rate = 1e-3 \n",
    "\n",
    "# model\n",
    "n_channels = 128 # embedded channels\n",
    "n_head = 8 # number of heads in multihead attention mechanism\n",
    "n_layer = 6 # number of transformer blocks\n",
    "dropout = 0.0"
   ]
  },
  {
   "attachments": {},
   "cell_type": "markdown",
   "id": "db7e7c47",
   "metadata": {},
   "source": [
    "### Dataset preparing"
   ]
  },
  {
   "cell_type": "code",
   "execution_count": null,
   "id": "21c53e6b",
   "metadata": {},
   "outputs": [],
   "source": [
    "# Read and merge all data files\n",
    "data_dir = Path(\"data/\")\n",
    "text_paths = list(data_dir.glob(\"*\"))\n",
    "\n",
    "text = ''\n",
    "\n",
    "for file in tqdm(text_paths[:files_no]):\n",
    "    with open(file, 'r', encoding='utf-8') as f:\n",
    "        inp = f.read()\n",
    "        text += inp"
   ]
  },
  {
   "cell_type": "code",
   "execution_count": null,
   "id": "e9c2adbe",
   "metadata": {},
   "outputs": [],
   "source": [
    "print(\"Dataset length: \", len(text))\n",
    "print(text[2000:3000])"
   ]
  },
  {
   "cell_type": "code",
   "execution_count": null,
   "id": "142dba09",
   "metadata": {},
   "outputs": [],
   "source": [
    "chars = sorted(list(set(text)))\n",
    "vocab_size = len(chars)\n",
    "print(len(chars))"
   ]
  },
  {
   "cell_type": "code",
   "execution_count": null,
   "id": "460be4b4",
   "metadata": {},
   "outputs": [],
   "source": [
    "if tokenization == 'bigram':\n",
    "    to_int = { c:i for i,c in enumerate(chars) }\n",
    "    to_str = { i:c for i,c in enumerate(chars) }\n",
    "    encode = lambda s: [to_int[c] for c in s] \n",
    "    decode = lambda l: ''.join([to_str[i] for i in l])\n",
    "    \n",
    "    input_data = torch.tensor(encode(text), dtype=torch.long)\n",
    "\n",
    "elif tokenization == 'gpt2':\n",
    "    enc = tiktoken.get_encoding(\"gpt2\")\n",
    "    input_data = torch.tensor(enc.encode(text), dtype=torch.long)"
   ]
  },
  {
   "cell_type": "code",
   "execution_count": null,
   "id": "18c3e9fd",
   "metadata": {},
   "outputs": [],
   "source": [
    "# Train/test data split\n",
    "sep = int(train_test_split*len(input_data))\n",
    "train_data = input_data[:sep]\n",
    "test_data = input_data[sep:]"
   ]
  },
  {
   "cell_type": "code",
   "execution_count": null,
   "id": "135e430e",
   "metadata": {},
   "outputs": [],
   "source": [
    "def random_batch(mode):\n",
    "    data = train_data if mode == 'train' else test_data\n",
    "    ix = torch.randint(len(data) - block_size, (batch_size,))\n",
    "    x = torch.stack([data[i:i+block_size] for i in ix])\n",
    "    y = torch.stack([data[i+1:i+block_size+1] for i in ix])\n",
    "    x, y = x.to(device), y.to(device)\n",
    "    return x, y\n",
    "\n",
    "X, Y = random_batch('train')"
   ]
  },
  {
   "cell_type": "markdown",
   "id": "f3621438",
   "metadata": {},
   "source": [
    "## Model"
   ]
  },
  {
   "cell_type": "code",
   "execution_count": null,
   "id": "273b9780",
   "metadata": {},
   "outputs": [],
   "source": [
    "class Head(nn.Module):\n",
    "\n",
    "    def __init__(self, head_size):\n",
    "        super().__init__()\n",
    "        self.key = nn.Linear(n_channels, head_size, bias=False)\n",
    "        self.query = nn.Linear(n_channels, head_size, bias=False)\n",
    "        self.value = nn.Linear(n_channels, head_size, bias=False)\n",
    "        self.register_buffer('tril', torch.tril(torch.ones(block_size, block_size)))\n",
    "        self.dropout = nn.Dropout(dropout)\n",
    "\n",
    "    def forward(self, x):\n",
    "        B,T,C = x.shape\n",
    "        k = self.key(x)\n",
    "        q = self.query(x)\n",
    "        wei = q @ k.transpose(-2,-1) * C**-0.5\n",
    "        wei = wei.masked_fill(self.tril[:T, :T] == 0, float('-inf'))\n",
    "        wei = F.softmax(wei, dim=-1)\n",
    "        wei = self.dropout(wei)\n",
    "        v = self.value(x) \n",
    "        out = wei @ v\n",
    "        return out"
   ]
  },
  {
   "cell_type": "code",
   "execution_count": null,
   "id": "f989e1c9",
   "metadata": {},
   "outputs": [],
   "source": [
    "class MultiHeadAttention(nn.Module):\n",
    "    \n",
    "    def __init__(self, n_heads, head_size):\n",
    "        super().__init__()\n",
    "        self.heads = nn.ModuleList([Head(head_size) for _ in range(n_heads)])\n",
    "        self.proj = nn.Linear(n_channels, n_channels)\n",
    "        self.dropout = nn.Dropout(dropout)\n",
    "\n",
    "    def forward(self, x):\n",
    "        out = torch.cat([h(x) for h in self.heads], dim=-1)\n",
    "        out = self.dropout(self.proj(out))\n",
    "        return out"
   ]
  },
  {
   "cell_type": "code",
   "execution_count": null,
   "id": "5556172f",
   "metadata": {},
   "outputs": [],
   "source": [
    "class FeedFoward(nn.Module):\n",
    "    \n",
    "    def __init__(self, n_channels):\n",
    "        super().__init__()\n",
    "        self.ff = nn.Sequential(\n",
    "            nn.Linear(n_channels, 4 * n_channels),\n",
    "            nn.GELU(),\n",
    "            nn.Linear(4 * n_channels, n_channels),\n",
    "            nn.Dropout(dropout))\n",
    "\n",
    "    def forward(self, x):\n",
    "        return self.ff(x)"
   ]
  },
  {
   "cell_type": "code",
   "execution_count": null,
   "id": "a567a5a1",
   "metadata": {},
   "outputs": [],
   "source": [
    "class Transformer_Block(nn.Module):\n",
    "\n",
    "    def __init__(self, n_channels, n_head):\n",
    "        super().__init__()\n",
    "        head_size = n_channels // n_head # channels per one head\n",
    "        self.sa = MultiHeadAttention(n_head, head_size)\n",
    "        self.ffwd = FeedFoward(n_channels)\n",
    "        self.norm1 = nn.LayerNorm(n_channels)\n",
    "        self.norm2 = nn.LayerNorm(n_channels)\n",
    "\n",
    "    def forward(self, x):\n",
    "        x = x + self.sa(self.norm1(x))\n",
    "        x = x + self.ffwd(self.norm2(x))\n",
    "        return x"
   ]
  },
  {
   "cell_type": "code",
   "execution_count": null,
   "id": "a7651185",
   "metadata": {},
   "outputs": [],
   "source": [
    "class smallGPT(nn.Module):\n",
    "\n",
    "    def __init__(self):\n",
    "        super().__init__()\n",
    "        self.token_embedding= nn.Embedding(vocab_size, n_channels)\n",
    "        self.position_embedding = nn.Embedding(block_size, n_channels)\n",
    "        self.blocks = nn.Sequential(*[Transformer_Block(n_channels, n_head=n_head) for _ in range(n_layer)])\n",
    "        self.norm = nn.LayerNorm(n_channels)\n",
    "        self.lm_head = nn.Linear(n_channels, vocab_size)\n",
    "    \n",
    "        self.apply(self._init_weights)\n",
    "\n",
    "    def _init_weights(self, module):     \n",
    "        if isinstance(module, nn.Linear):\n",
    "            torch.nn.init.normal_(module.weight, mean=0.0, std=0.02)\n",
    "            if module.bias is not None:\n",
    "                torch.nn.init.zeros_(module.bias)\n",
    "        elif isinstance(module, nn.Embedding):\n",
    "            torch.nn.init.normal_(module.weight, mean=0.0, std=0.02)\n",
    "\n",
    "    def forward(self, inp_x, targets=None):\n",
    "        B, T = inp_x.shape\n",
    "        tok_emb = self.token_embedding(inp_x)\n",
    "        pos_emb = self.position_embedding(torch.arange(T, device=device))\n",
    "        x = tok_emb + pos_emb\n",
    "        x = self.blocks(x)\n",
    "        x = self.norm(x)\n",
    "        logits = self.lm_head(x)\n",
    "\n",
    "        if targets is None:\n",
    "            loss = None\n",
    "        else:\n",
    "            B, T, C = logits.shape\n",
    "            logits = logits.view(B*T, C)\n",
    "            targets = targets.view(B*T) \n",
    "            loss = F.cross_entropy(logits, targets)\n",
    "\n",
    "        return logits, loss\n",
    "\n",
    "    def generate(self, idx, new_tokens_no):\n",
    "        for _ in range(new_tokens_no):\n",
    "\n",
    "            idx_cond = idx[:, -block_size:]\n",
    "            logits, loss = self(idx_cond)\n",
    "            logits = logits[:, -1, :]\n",
    "            probs = F.softmax(logits, dim=-1) \n",
    "            idx_next = torch.multinomial(probs, num_samples=1)\n",
    "            idx = torch.cat((idx, idx_next), dim=1)           \n",
    "        return idx\n",
    "\n",
    "m = smallGPT()\n",
    "model = m.to(device)\n",
    "summary(model)"
   ]
  },
  {
   "attachments": {},
   "cell_type": "markdown",
   "id": "6406e1ef",
   "metadata": {},
   "source": [
    "### Training the Model"
   ]
  },
  {
   "cell_type": "code",
   "execution_count": null,
   "id": "ec859eb3",
   "metadata": {},
   "outputs": [],
   "source": [
    "@torch.no_grad()\n",
    "def avg_loss():\n",
    "    out = {}\n",
    "    model.eval()\n",
    "    for mode in ['train', 'test']:\n",
    "        losses = torch.zeros(eval_epochs)\n",
    "        for k in range(eval_epochs):\n",
    "            X, Y = random_batch(mode)\n",
    "            logits, loss = model(X, Y)\n",
    "            losses[k] = loss.item()\n",
    "        out[mode] = losses.mean()\n",
    "    model.train()\n",
    "    return out"
   ]
  },
  {
   "cell_type": "code",
   "execution_count": null,
   "id": "f9dd795f",
   "metadata": {},
   "outputs": [],
   "source": [
    "def train(model, optimizer, epochs):\n",
    "\n",
    "    results = {\"train_loss\": []}\n",
    "    \n",
    "    for epoch in tqdm(range(epochs)):\n",
    "\n",
    "        if epoch % info_interval == 0 or epoch == epochs - 1:\n",
    "            losses = avg_loss()\n",
    "            print(f\"Step {epoch}: train loss {losses['train']:.4f}, test loss {losses['test']:.4f}\")\n",
    "\n",
    "        X, Y = random_batch('train')\n",
    "\n",
    "        logits, loss = model(X, Y)\n",
    "        optimizer.zero_grad(set_to_none=True)\n",
    "        loss.backward()\n",
    "        optimizer.step()\n",
    "        results[\"train_loss\"].append(loss.item())\n",
    "\n",
    "    print(f\"Final train loss: {loss.item()}\")\n",
    "\n",
    "    return results"
   ]
  },
  {
   "cell_type": "code",
   "execution_count": null,
   "metadata": {},
   "outputs": [],
   "source": [
    "optimizer = torch.optim.AdamW(model.parameters(), lr=learning_rate)"
   ]
  },
  {
   "cell_type": "code",
   "execution_count": null,
   "id": "aff3b24e",
   "metadata": {},
   "outputs": [],
   "source": [
    "model_results = train(model=model, \n",
    "                      optimizer=optimizer, \n",
    "                      epochs=epochs)"
   ]
  },
  {
   "cell_type": "code",
   "execution_count": null,
   "id": "126e7527",
   "metadata": {},
   "outputs": [],
   "source": [
    "ax = pd.DataFrame({'Train Loss': [loss for loss in model_results['train_loss']]}).plot(title='Train Loss Decrease', logy=True)\n",
    "\n",
    "ax.set_xlabel(\"Epochs\")\n",
    "ax.set_ylabel(\"Loss\")"
   ]
  },
  {
   "cell_type": "code",
   "execution_count": null,
   "id": "718bf828",
   "metadata": {},
   "outputs": [],
   "source": [
    "context = torch.zeros((1, 1), dtype=torch.long, device=device)\n",
    "print(decode(model.generate(context, new_tokens_no=2000)[0].tolist()))"
   ]
  }
 ],
 "metadata": {
  "kernelspec": {
   "display_name": "Python 3 (ipykernel)",
   "language": "python",
   "name": "python3"
  },
  "language_info": {
   "codemirror_mode": {
    "name": "ipython",
    "version": 3
   },
   "file_extension": ".py",
   "mimetype": "text/x-python",
   "name": "python",
   "nbconvert_exporter": "python",
   "pygments_lexer": "ipython3",
   "version": "3.9.13"
  }
 },
 "nbformat": 4,
 "nbformat_minor": 5
}
